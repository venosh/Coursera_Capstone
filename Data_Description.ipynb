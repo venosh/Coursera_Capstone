{
 "cells": [
  {
   "cell_type": "markdown",
   "metadata": {},
   "source": [
    "# Data"
   ]
  },
  {
   "cell_type": "markdown",
   "metadata": {},
   "source": [
    "There are a lot of problems with the data set keeping in mind that this is a machine learning\n",
    "project which uses classification to predict a categorical variable. The dataset has total observations\n",
    "of 194673 with variation in number of observations for every feature. First of all, the total dataset\n",
    "was high variation in the lengths of almost every column of the dataset. The dataset had a lot of empty\n",
    "columns which could have been beneficial had the data been present there. These columns included\n",
    "pedestrian granted way or not, segment lane key, cross walk key and hit parked car.\n",
    "The models aim was to predict the severity of an accident, considering that, the variable of\n",
    "Severity Code was in the form of 1 (Property Damage Only) and 2 (Injury Collision) which were encoded\n",
    "to the form of 0 (Property Damage Only) and 1 (Injury Collision). Furthermore, the Y was given value of 1\n",
    "whereas N and no value was given 0 for the variables Inattention, Speeding and Under the influence. For\n",
    "lighting condition, Light was given 0 along with Medium as 1 and Dark as 2. For Road Condition, Dry was\n",
    "assigned 0, Mushy was assigned 1 and Wet was given 2. As for Weather Condition, 0 is Clear, Overcast is\n",
    "1, Windy is 2 and Rain and Snow was given 3. 0 was assigned to the element of each variable which can\n",
    "be the least probable cause of severe accident whereas a high number represented adverse condition\n",
    "which can lead to a higher accident severity. Whereas, there were unique values for every variable\n",
    "which were either ‘Other’ or ‘Unknown’, deleting those rows entirely would have led to a lot of loss of\n",
    "data which is not preferred."
   ]
  },
  {
   "cell_type": "markdown",
   "metadata": {},
   "source": [
    "In order to deal with the issue of columns having a variation in frequency, arrays were made for\n",
    "each column which were encoded according to the original column and had equal proportion of\n",
    "elements as the original column. Then the arrays were imposed on the original columns in the positions\n",
    "which had ‘Other’ and ‘Unknown’ in them. This entire process of cleaning data led to a loss of almost\n",
    "5000 rows which had redundant data, whereas other rows with unknown values were filled earlier"
   ]
  },
  {
   "cell_type": "code",
   "execution_count": null,
   "metadata": {},
   "outputs": [],
   "source": []
  }
 ],
 "metadata": {
  "kernelspec": {
   "display_name": "Python 3",
   "language": "python",
   "name": "python3"
  },
  "language_info": {
   "codemirror_mode": {
    "name": "ipython",
    "version": 3
   },
   "file_extension": ".py",
   "mimetype": "text/x-python",
   "name": "python",
   "nbconvert_exporter": "python",
   "pygments_lexer": "ipython3",
   "version": "3.8.3"
  }
 },
 "nbformat": 4,
 "nbformat_minor": 4
}
