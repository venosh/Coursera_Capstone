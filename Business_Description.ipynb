{
 "cells": [
  {
   "cell_type": "markdown",
   "metadata": {},
   "source": [
    "# Introduction"
   ]
  },
  {
   "cell_type": "markdown",
   "metadata": {},
   "source": [
    "Background:"
   ]
  },
  {
   "cell_type": "markdown",
   "metadata": {},
   "source": [
    "Seattle, also known as the Emerald city, is Washington State’s largest city, with home to a large\n",
    "tech industry with Microsoft and Amazon headquartered in its metropolitan area. As of 2020, it has a\n",
    "total metro area population of 3.4 million (www.macrotrends.net). The total number of personal\n",
    "vehicles in Seattle in the year 2016 hit a new high of nearly 444,000 vehicles. In one South Lake Union\n",
    "census tract, the car population has more than doubled since 2010 (www.seattletimes.com). The\n",
    "increase in car ownership rates can lead to higher numbers of accidents on the road because of a simple\n",
    "probability. Worldwide, approximately 1.35 million people die in road crashes each year, on average\n",
    "3,700 people lose their lives every day on the roads and an additional 20-50 million suffer non-fatal\n",
    "injuries, often resulting in long-term disabilities"
   ]
  },
  {
   "cell_type": "markdown",
   "metadata": {},
   "source": [
    "Problem:"
   ]
  },
  {
   "cell_type": "markdown",
   "metadata": {},
   "source": [
    "The world as a whole suffers due to car accidents, including the USA. National Highway Traffic\n",
    "Safety Administration of the USA suggests that the economical and societal harm from car accidents can\n",
    "cost up to $871 billion in a single year. According to 2017 WSDOT data, a car accident occurs every 4\n",
    "minutes and a person dies due to a car crash every 20 hours in the state of Washington while Fatal\n",
    "crashes went from 508 in 2016 to 525 in 2017, resulting in the death of 555 people. The project aims to\n",
    "predict how severity of accidents can be reduced based on a few factors."
   ]
  },
  {
   "cell_type": "markdown",
   "metadata": {},
   "source": [
    "StakeH"
   ]
  }
 ],
 "metadata": {
  "kernelspec": {
   "display_name": "Python 3",
   "language": "python",
   "name": "python3"
  },
  "language_info": {
   "codemirror_mode": {
    "name": "ipython",
    "version": 3
   },
   "file_extension": ".py",
   "mimetype": "text/x-python",
   "name": "python",
   "nbconvert_exporter": "python",
   "pygments_lexer": "ipython3",
   "version": "3.8.3"
  }
 },
 "nbformat": 4,
 "nbformat_minor": 4
}
